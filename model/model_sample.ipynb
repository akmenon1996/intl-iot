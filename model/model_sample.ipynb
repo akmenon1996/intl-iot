{
 "cells": [
  {
   "cell_type": "markdown",
   "metadata": {},
   "source": [
    "## Train a model and predict activities\n",
    "\n",
    "The file works you through training a model to detect activities of a given device. The activities can be defined any action a device may allow users to do, and each activity should contain at least 3 repeated experiments to make representative learnings. \n",
    "\n",
    "**Before you go ahead, download the required pcap files** from [Google Drive > iot-model.tgz](https://drive.google.com/open?id=1lMqZ5qx6ATqIIiLOdTYcSm6RliK1F7vA) (size=~127MB), and decompress it to the current folder. You should expect the file structure to be `traffic/us/yi-camera/{activity_name}/{datetime}.{length}.pcap`.\n",
    "\n",
    "**IMPORTANT** Make sure to use `python3` and install all the dependencies. \n",
    "- `pip install -r requirements.txt`\n"
   ]
  },
  {
   "cell_type": "markdown",
   "metadata": {},
   "source": [
    "#### Extract pcap files to per-flow level info \n",
    "(output too long, hidden from this file)"
   ]
  },
  {
   "cell_type": "code",
   "execution_count": null,
   "metadata": {},
   "outputs": [],
   "source": [
    "!./raw2intermediate.sh list_exp.txt tagged-intermediate/us"
   ]
  },
  {
   "cell_type": "markdown",
   "metadata": {},
   "source": [
    "#### Parse per-flow info to features per-activity\n",
    "(output too long, hidden from this file)"
   ]
  },
  {
   "cell_type": "code",
   "execution_count": null,
   "metadata": {},
   "outputs": [],
   "source": [
    "!python extract_tbp_features.py"
   ]
  },
  {
   "cell_type": "markdown",
   "metadata": {},
   "source": [
    "#### Train the model using the features\n",
    "(re-reun the command below will skip the trained model, delete .model and .label.txt file to re-train) "
   ]
  },
  {
   "cell_type": "code",
   "execution_count": 7,
   "metadata": {},
   "outputs": [
    {
     "name": "stdout",
     "output_type": "stream",
     "text": [
      "/Users/abhijit/miniconda3/lib/python3.7/site-packages/sklearn/externals/joblib/externals/cloudpickle/cloudpickle.py:47: DeprecationWarning: the imp module is deprecated in favour of importlib; see the module's documentation for alternative uses\n",
      "  import imp\n",
      "amcrest-cam-wired.csv\n",
      "Scanning new-features-testing1.1-all/us/amcrest-cam-wired.csv\n",
      "  #Data points: 2110 \n",
      "\tVariable: spanOfGroup          Importance: 0.166\n",
      "\tVariable: network_to_external  Importance: 0.158\n",
      "\tVariable: q60                  Importance: 0.087\n",
      "\tVariable: medianTBP            Importance: 0.077\n",
      "\tVariable: meanBytes            Importance: 0.058\n",
      "\tVariable: skewLength           Importance: 0.052\n",
      "\tVariable: q50                  Importance: 0.049\n",
      "\tVariable: meanTBP              Importance: 0.046\n",
      "\tVariable: medAbsDev            Importance: 0.044\n",
      "\tVariable: q70                  Importance: 0.044\n",
      "\tVariable: kurtosisLength       Importance: 0.035\n",
      "\tVariable: varTBP               Importance: 0.035\n",
      "\tVariable: skewTBP              Importance: 0.031\n",
      "\tVariable: q80                  Importance: 0.028\n",
      "\tVariable: kurtosisTBP          Importance: 0.026\n",
      "\tVariable: q40                  Importance: 0.02\n",
      "\tVariable: q90                  Importance: 0.02\n",
      "\tVariable: q30                  Importance: 0.018\n",
      "\tVariable: minBytes             Importance: 0.002\n",
      "\tVariable: maxBytes             Importance: 0.002\n",
      "\tVariable: q10                  Importance: 0.0\n",
      "\tVariable: q20                  Importance: 0.0\n",
      "\tVariable: network_to           Importance: 0.0\n",
      "\tVariable: network_from         Importance: 0.0\n",
      "\tVariable: network_both         Importance: 0.0\n",
      "\tVariable: network_local        Importance: 0.0\n",
      "\tVariable: anonymous_source_destination Importance: 0.0\n",
      "  model -> tagged-models-new-testing1.1/us/amcrest-cam-wired.model\n",
      "  labels -> tagged-models-new-testing1.1/us/amcrest-cam-wired.label.txt\n",
      "    accuracy: 1.0\n",
      "Helllllo\n",
      "google-home-mini.csv\n",
      "Scanning new-features-testing1.1-all/us/google-home-mini.csv\n",
      "  #Data points: 830 \n",
      "\tVariable: maxBytes             Importance: 0.393\n",
      "\tVariable: network_to_external  Importance: 0.256\n",
      "\tVariable: spanOfGroup          Importance: 0.053\n",
      "\tVariable: q60                  Importance: 0.033\n",
      "\tVariable: kurtosisLength       Importance: 0.028\n",
      "\tVariable: skewLength           Importance: 0.026\n",
      "\tVariable: q40                  Importance: 0.024\n",
      "\tVariable: medianTBP            Importance: 0.021\n",
      "\tVariable: kurtosisTBP          Importance: 0.02\n",
      "\tVariable: meanBytes            Importance: 0.018\n",
      "\tVariable: skewTBP              Importance: 0.018\n",
      "\tVariable: q70                  Importance: 0.017\n",
      "\tVariable: medAbsDev            Importance: 0.015\n",
      "\tVariable: meanTBP              Importance: 0.014\n",
      "\tVariable: varTBP               Importance: 0.014\n",
      "\tVariable: q50                  Importance: 0.013\n",
      "\tVariable: q90                  Importance: 0.011\n",
      "\tVariable: q30                  Importance: 0.01\n",
      "\tVariable: minBytes             Importance: 0.008\n",
      "\tVariable: q80                  Importance: 0.006\n",
      "\tVariable: q10                  Importance: 0.0\n",
      "\tVariable: q20                  Importance: 0.0\n",
      "\tVariable: network_to           Importance: 0.0\n",
      "\tVariable: network_from         Importance: 0.0\n",
      "\tVariable: network_both         Importance: 0.0\n",
      "\tVariable: network_local        Importance: 0.0\n",
      "\tVariable: anonymous_source_destination Importance: 0.0\n",
      "  model -> tagged-models-new-testing1.1/us/google-home-mini.model\n",
      "  labels -> tagged-models-new-testing1.1/us/google-home-mini.label.txt\n",
      "    accuracy: 1.0\n",
      "Helllllo\n",
      "microwave.csv\n",
      "Scanning new-features-testing1.1-all/us/microwave.csv\n",
      "  #Data points: 240 \n",
      "\tVariable: network_to_external  Importance: 0.201\n",
      "\tVariable: spanOfGroup          Importance: 0.16\n",
      "\tVariable: maxBytes             Importance: 0.088\n",
      "\tVariable: q80                  Importance: 0.062\n",
      "\tVariable: q90                  Importance: 0.057\n",
      "\tVariable: medianTBP            Importance: 0.054\n",
      "\tVariable: skewTBP              Importance: 0.052\n",
      "\tVariable: meanBytes            Importance: 0.051\n",
      "\tVariable: kurtosisTBP          Importance: 0.05\n",
      "\tVariable: varTBP               Importance: 0.049\n",
      "\tVariable: kurtosisLength       Importance: 0.041\n",
      "\tVariable: meanTBP              Importance: 0.034\n",
      "\tVariable: skewLength           Importance: 0.033\n",
      "\tVariable: q70                  Importance: 0.028\n",
      "\tVariable: q60                  Importance: 0.016\n",
      "\tVariable: medAbsDev            Importance: 0.012\n",
      "\tVariable: q50                  Importance: 0.01\n",
      "\tVariable: q40                  Importance: 0.003\n",
      "\tVariable: q30                  Importance: 0.001\n",
      "\tVariable: minBytes             Importance: 0.0\n",
      "\tVariable: q10                  Importance: 0.0\n",
      "\tVariable: q20                  Importance: 0.0\n",
      "\tVariable: network_to           Importance: 0.0\n",
      "\tVariable: network_from         Importance: 0.0\n",
      "\tVariable: network_both         Importance: 0.0\n",
      "\tVariable: network_local        Importance: 0.0\n",
      "\tVariable: anonymous_source_destination Importance: 0.0\n",
      "  model -> tagged-models-new-testing1.1/us/microwave.model\n",
      "  labels -> tagged-models-new-testing1.1/us/microwave.label.txt\n",
      "    accuracy: 1.0\n",
      "Helllllo\n",
      "yi-camera.csv\n",
      "Scanning new-features-testing1.1-all/us/yi-camera.csv\n",
      "  #Data points: 2480 \n",
      "\tVariable: spanOfGroup          Importance: 0.23\n",
      "\tVariable: network_from         Importance: 0.227\n",
      "\tVariable: network_to           Importance: 0.174\n",
      "\tVariable: q90                  Importance: 0.042\n",
      "\tVariable: q60                  Importance: 0.036\n",
      "\tVariable: q70                  Importance: 0.034\n",
      "\tVariable: q80                  Importance: 0.034\n",
      "\tVariable: meanBytes            Importance: 0.033\n",
      "\tVariable: meanTBP              Importance: 0.029\n",
      "\tVariable: kurtosisLength       Importance: 0.027\n",
      "\tVariable: medAbsDev            Importance: 0.019\n",
      "\tVariable: skewLength           Importance: 0.019\n",
      "\tVariable: medianTBP            Importance: 0.018\n",
      "\tVariable: q40                  Importance: 0.014\n",
      "\tVariable: q50                  Importance: 0.014\n",
      "\tVariable: varTBP               Importance: 0.009\n",
      "\tVariable: network_both         Importance: 0.008\n",
      "\tVariable: kurtosisTBP          Importance: 0.006\n",
      "\tVariable: skewTBP              Importance: 0.006\n",
      "\tVariable: q20                  Importance: 0.005\n",
      "\tVariable: q10                  Importance: 0.004\n",
      "\tVariable: q30                  Importance: 0.004\n",
      "\tVariable: maxBytes             Importance: 0.003\n",
      "\tVariable: network_to_external  Importance: 0.002\n",
      "\tVariable: network_local        Importance: 0.002\n",
      "\tVariable: minBytes             Importance: 0.001\n",
      "\tVariable: anonymous_source_destination Importance: 0.0\n",
      "  model -> tagged-models-new-testing1.1/us/yi-camera.model\n",
      "  labels -> tagged-models-new-testing1.1/us/yi-camera.label.txt\n",
      "    accuracy: 1.0\n",
      "Helllllo\n",
      "philips-bulb.csv\n",
      "Scanning new-features-testing1.1-all/us/philips-bulb.csv\n",
      "  #Data points: 2870 \n",
      "\tVariable: network_to_external  Importance: 0.165\n",
      "\tVariable: spanOfGroup          Importance: 0.091\n",
      "\tVariable: medianTBP            Importance: 0.065\n",
      "\tVariable: kurtosisLength       Importance: 0.059\n",
      "\tVariable: varTBP               Importance: 0.059\n",
      "\tVariable: meanBytes            Importance: 0.056\n",
      "\tVariable: skewLength           Importance: 0.054\n",
      "\tVariable: meanTBP              Importance: 0.054\n",
      "\tVariable: kurtosisTBP          Importance: 0.054\n",
      "\tVariable: skewTBP              Importance: 0.054\n",
      "\tVariable: maxBytes             Importance: 0.039\n",
      "\tVariable: q90                  Importance: 0.037\n",
      "\tVariable: q70                  Importance: 0.028\n",
      "\tVariable: q80                  Importance: 0.028\n",
      "\tVariable: q30                  Importance: 0.027\n",
      "\tVariable: q20                  Importance: 0.026\n",
      "\tVariable: q40                  Importance: 0.022\n",
      "\tVariable: q60                  Importance: 0.022\n",
      "\tVariable: medAbsDev            Importance: 0.019\n",
      "\tVariable: q10                  Importance: 0.019\n",
      "\tVariable: q50                  Importance: 0.018\n",
      "\tVariable: minBytes             Importance: 0.006\n",
      "\tVariable: network_to           Importance: 0.0\n",
      "\tVariable: network_from         Importance: 0.0\n",
      "\tVariable: network_both         Importance: 0.0\n",
      "\tVariable: network_local        Importance: 0.0\n",
      "\tVariable: anonymous_source_destination Importance: 0.0\n",
      "  model -> tagged-models-new-testing1.1/us/philips-bulb.model\n",
      "  labels -> tagged-models-new-testing1.1/us/philips-bulb.label.txt\n",
      "    accuracy: 1.0\n"
     ]
    },
    {
     "name": "stdout",
     "output_type": "stream",
     "text": [
      "Helllllo\r\n",
      "caches\r\n",
      "acc score saved to tagged-models-new-testing1.1/us/output/train-models.txt\r\n"
     ]
    }
   ],
   "source": [
    "!python3 train_rf_models.py"
   ]
  },
  {
   "cell_type": "markdown",
   "metadata": {},
   "source": [
    "#### Predict activities given a pcap file\n",
    "\n",
    "`Usage: ./predict.sh device_name path-to-pcap result-file modeldir\n",
    "    Note that a temprary file  /tmp/{md5}.txt will be created during the process\n",
    "    Requires python3`"
   ]
  },
  {
   "cell_type": "code",
   "execution_count": 16,
   "metadata": {},
   "outputs": [
    {
     "name": "stdout",
     "output_type": "stream",
     "text": [
      "/tmp/8aff41c21903f4752b8d2b314110e2c5.txt\n",
      "/tmp/8aff41c21903f4752b8d2b314110e2c5.txt exists, delete it to re-parse!\n",
      "/Users/abhijit/miniconda3/lib/python3.7/site-packages/sklearn/externals/joblib/externals/cloudpickle/cloudpickle.py:47: DeprecationWarning: the imp module is deprecated in favour of importlib; see the module's documentation for alternative uses\n",
      "  import imp\n",
      "yi-camera /tmp/8aff41c21903f4752b8d2b314110e2c5.txt sample-result.csv tagged-models/us\n",
      "tagged-models/us/yi-camera.model\n",
      "Result:\n",
      "None\n",
      "Results saved to sample-result.csv\n"
     ]
    }
   ],
   "source": [
    "!./predict.sh yi-camera /Users/abhijit/Desktop/GIT_Projects/intl-iot/model/tagged-intermediate-new-features-all/us/yi-camera/android_lan_photo/2019-04-26_21:12:55.35s.txt sample-result.csv tagged-models/us\n",
    "        \n",
    "        \n",
    "        \n",
    "        \n",
    "        "
   ]
  },
  {
   "cell_type": "code",
   "execution_count": 13,
   "metadata": {},
   "outputs": [
    {
     "name": "stdout",
     "output_type": "stream",
     "text": [
      "No behavior found for yi-camera from /tmp/8aff41c21903f4752b8d2b314110e2c5.txt"
     ]
    }
   ],
   "source": [
    "!cat sample-result.csv"
   ]
  },
  {
   "cell_type": "markdown",
   "metadata": {},
   "source": [
    "Explanation - between epoch time 1556329377.198794 and 1556329407.828307, the network traffic from yi-camera was predicted as the same activity as android_lan_watch, which is using android companion app to watch the video from the camera when both devices are connected to the same WI-FI network."
   ]
  }
 ],
 "metadata": {
  "kernelspec": {
   "display_name": "Python 3",
   "language": "python",
   "name": "python3"
  },
  "language_info": {
   "codemirror_mode": {
    "name": "ipython",
    "version": 3
   },
   "file_extension": ".py",
   "mimetype": "text/x-python",
   "name": "python",
   "nbconvert_exporter": "python",
   "pygments_lexer": "ipython3",
   "version": "3.7.6"
  }
 },
 "nbformat": 4,
 "nbformat_minor": 2
}
