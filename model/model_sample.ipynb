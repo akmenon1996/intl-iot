{
 "cells": [
  {
   "cell_type": "markdown",
   "metadata": {},
   "source": [
    "## Train a model and predict activities\n",
    "\n",
    "The file works you through training a model to detect activities of a given device. The activities can be defined any action a device may allow users to do, and each activity should contain at least 3 repeated experiments to make representative learnings. \n",
    "\n",
    "**Before you go ahead, download the required pcap files** from [Google Drive > iot-model.tgz](https://drive.google.com/open?id=1lMqZ5qx6ATqIIiLOdTYcSm6RliK1F7vA) (size=~127MB), and decompress it to the current folder. You should expect the file structure to be `traffic/us/yi-camera/{activity_name}/{datetime}.{length}.pcap`.\n",
    "\n",
    "**IMPORTANT** Make sure to use `python3` and install all the dependencies. \n",
    "- `pip install -r requirements.txt`\n"
   ]
  },
  {
   "cell_type": "markdown",
   "metadata": {},
   "source": [
    "#### Extract pcap files to per-flow level info \n",
    "(output too long, hidden from this file)"
   ]
  },
  {
   "cell_type": "code",
   "execution_count": null,
   "metadata": {},
   "outputs": [],
   "source": [
    "!./raw2intermediate.sh list_exp.txt tagged-intermediate/us"
   ]
  },
  {
   "cell_type": "markdown",
   "metadata": {},
   "source": [
    "#### Parse per-flow info to features per-activity\n",
    "(output too long, hidden from this file)"
   ]
  },
  {
   "cell_type": "code",
   "execution_count": null,
   "metadata": {},
   "outputs": [],
   "source": [
    "!python extract_tbp_features.py"
   ]
  },
  {
   "cell_type": "markdown",
   "metadata": {},
   "source": [
    "#### Train the model using the features\n",
    "(re-reun the command below will skip the trained model, delete .model and .label.txt file to re-train) "
   ]
  },
  {
   "cell_type": "code",
   "execution_count": 3,
   "metadata": {},
   "outputs": [
    {
     "name": "stdout",
     "output_type": "stream",
     "text": [
      "/Users/jingjing/.pyenv/versions/3.6.0/lib/python3.6/site-packages/sklearn/externals/joblib/externals/cloudpickle/cloudpickle.py:47: DeprecationWarning: the imp module is deprecated in favour of importlib; see the module's documentation for alternative uses\n",
      "  import imp\n",
      "Scanning features/us/yi-camera.csv\n",
      "  #Data points: 2490 \n",
      "\tVariable: spanOfGroup          Importance: 0.409\n",
      "\tVariable: q90                  Importance: 0.067\n",
      "\tVariable: meanTBP              Importance: 0.065\n",
      "\tVariable: kurtosisLength       Importance: 0.048\n",
      "\tVariable: q60                  Importance: 0.048\n",
      "\tVariable: q80                  Importance: 0.048\n",
      "\tVariable: meanBytes            Importance: 0.042\n",
      "\tVariable: q70                  Importance: 0.039\n",
      "\tVariable: medAbsDev            Importance: 0.036\n",
      "\tVariable: q40                  Importance: 0.035\n",
      "\tVariable: skewLength           Importance: 0.03\n",
      "\tVariable: varTBP               Importance: 0.026\n",
      "\tVariable: q50                  Importance: 0.024\n",
      "\tVariable: medianTBP            Importance: 0.024\n",
      "\tVariable: kurtosisTBP          Importance: 0.019\n",
      "\tVariable: skewTBP              Importance: 0.018\n",
      "\tVariable: q30                  Importance: 0.006\n",
      "\tVariable: q10                  Importance: 0.005\n",
      "\tVariable: q20                  Importance: 0.005\n",
      "\tVariable: maxBytes             Importance: 0.003\n",
      "\tVariable: minBytes             Importance: 0.001\n",
      "  model -> tagged-models/us/yi-camera.model\n",
      "  labels -> tagged-models/us/yi-camera.label.txt\n",
      "    accuracy: 1.0\n",
      "acc score saved to tagged-models/us/output/train-models.txt\n"
     ]
    }
   ],
   "source": [
    "!python3 train_rf_models.py"
   ]
  },
  {
   "cell_type": "markdown",
   "metadata": {},
   "source": [
    "#### Predict activities given a pcap file\n",
    "\n",
    "`Usage: ./predict.sh device_name path-to-pcap result-file modeldir\n",
    "    Note that a temprary file  /tmp/{md5}.txt will be created during the process\n",
    "    Requires python3`"
   ]
  },
  {
   "cell_type": "code",
   "execution_count": 4,
   "metadata": {},
   "outputs": [
    {
     "name": "stdout",
     "output_type": "stream",
     "text": [
      "/tmp/3b986fce33742216b5f4d8d2e427766d.txt\n",
      "/tmp/3b986fce33742216b5f4d8d2e427766d.txt exists, delete it to re-parse!\n",
      "/Users/jingjing/.pyenv/versions/3.6.0/lib/python3.6/site-packages/sklearn/externals/joblib/externals/cloudpickle/cloudpickle.py:47: DeprecationWarning: the imp module is deprecated in favour of importlib; see the module's documentation for alternative uses\n",
      "  import imp\n",
      "tagged-models/us//yi-camera.model\n",
      "Total packets: 1621\n",
      "Number of slices: 2\n",
      "Result:\n",
      "             ts        ts_end  ts_delta  num_pkt              state\n",
      "0  1.556329e+09  1.556329e+09  0.000019     1620  android_lan_watch\n",
      "Results saved to sample-result.csv\n"
     ]
    }
   ],
   "source": [
    "!./predict.sh yi-camera sample-yi-camera-recording.pcap sample-result.csv tagged-models/us/"
   ]
  },
  {
   "cell_type": "code",
   "execution_count": 5,
   "metadata": {},
   "outputs": [
    {
     "name": "stdout",
     "output_type": "stream",
     "text": [
      "ts,ts_end,ts_delta,num_pkt,state,device\r\n",
      "1556329377.198794,1556329407.828307,1.9e-05,1620,android_lan_watch,yi-camera\r\n"
     ]
    }
   ],
   "source": [
    "!cat sample-result.csv"
   ]
  },
  {
   "cell_type": "markdown",
   "metadata": {},
   "source": [
    "Explanation - between epoch time 1556329377.198794 and 1556329407.828307, the network traffic from yi-camera was predicted as the same activity as android_lan_watch, which is using android companion app to watch the video from the camera when both devices are connected to the same WI-FI network."
   ]
  }
 ],
 "metadata": {
  "kernelspec": {
   "display_name": "Python 3",
   "language": "python",
   "name": "python3"
  },
  "language_info": {
   "codemirror_mode": {
    "name": "ipython",
    "version": 2
   },
   "file_extension": ".py",
   "mimetype": "text/x-python",
   "name": "python",
   "nbconvert_exporter": "python",
   "pygments_lexer": "ipython2",
   "version": "2.7.14"
  }
 },
 "nbformat": 4,
 "nbformat_minor": 2
}
