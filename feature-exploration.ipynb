{
 "cells": [
  {
   "cell_type": "code",
   "execution_count": 2,
   "metadata": {},
   "outputs": [],
   "source": [
    "import pandas as pd\n",
    "import numpy as np \n",
    "import matplotlib.pyplot as plt\n",
    "import seaborn as sns\n",
    "import plotly \n",
    "from plotly import graph_objs as go\n",
    "from sklearn.cluster import KMeans\n",
    "from sklearn.decomposition import PCA\n",
    "from sklearn.preprocessing import StandardScaler"
   ]
  },
  {
   "cell_type": "code",
   "execution_count": 3,
   "metadata": {},
   "outputs": [
    {
     "data": {
      "text/html": [
       "<div>\n",
       "<style scoped>\n",
       "    .dataframe tbody tr th:only-of-type {\n",
       "        vertical-align: middle;\n",
       "    }\n",
       "\n",
       "    .dataframe tbody tr th {\n",
       "        vertical-align: top;\n",
       "    }\n",
       "\n",
       "    .dataframe thead th {\n",
       "        text-align: right;\n",
       "    }\n",
       "</style>\n",
       "<table border=\"1\" class=\"dataframe\">\n",
       "  <thead>\n",
       "    <tr style=\"text-align: right;\">\n",
       "      <th></th>\n",
       "      <th>meanBytes</th>\n",
       "      <th>minBytes</th>\n",
       "      <th>maxBytes</th>\n",
       "      <th>medAbsDev</th>\n",
       "      <th>skewLength</th>\n",
       "      <th>kurtosisLength</th>\n",
       "      <th>q10</th>\n",
       "      <th>q20</th>\n",
       "      <th>q30</th>\n",
       "      <th>q40</th>\n",
       "      <th>...</th>\n",
       "      <th>kurtosisTBP</th>\n",
       "      <th>skewTBP</th>\n",
       "      <th>network_to</th>\n",
       "      <th>network_from</th>\n",
       "      <th>network_both</th>\n",
       "      <th>network_to_external</th>\n",
       "      <th>network_local</th>\n",
       "      <th>anonymous_source_destination</th>\n",
       "      <th>device</th>\n",
       "      <th>state</th>\n",
       "    </tr>\n",
       "  </thead>\n",
       "  <tbody>\n",
       "    <tr>\n",
       "      <th>0</th>\n",
       "      <td>157.304688</td>\n",
       "      <td>46</td>\n",
       "      <td>1214</td>\n",
       "      <td>17.791227</td>\n",
       "      <td>3.347432</td>\n",
       "      <td>11.540648</td>\n",
       "      <td>54.0</td>\n",
       "      <td>54.0</td>\n",
       "      <td>62.0</td>\n",
       "      <td>65.2</td>\n",
       "      <td>...</td>\n",
       "      <td>41.989793</td>\n",
       "      <td>6.161966</td>\n",
       "      <td>49</td>\n",
       "      <td>72</td>\n",
       "      <td>0</td>\n",
       "      <td>7</td>\n",
       "      <td>0</td>\n",
       "      <td>0</td>\n",
       "      <td>yi-camera</td>\n",
       "      <td>power</td>\n",
       "    </tr>\n",
       "    <tr>\n",
       "      <th>1</th>\n",
       "      <td>191.148438</td>\n",
       "      <td>46</td>\n",
       "      <td>1214</td>\n",
       "      <td>23.721635</td>\n",
       "      <td>2.685539</td>\n",
       "      <td>6.275311</td>\n",
       "      <td>50.0</td>\n",
       "      <td>54.0</td>\n",
       "      <td>54.0</td>\n",
       "      <td>62.0</td>\n",
       "      <td>...</td>\n",
       "      <td>35.508022</td>\n",
       "      <td>6.042936</td>\n",
       "      <td>64</td>\n",
       "      <td>57</td>\n",
       "      <td>0</td>\n",
       "      <td>7</td>\n",
       "      <td>0</td>\n",
       "      <td>0</td>\n",
       "      <td>yi-camera</td>\n",
       "      <td>power</td>\n",
       "    </tr>\n",
       "    <tr>\n",
       "      <th>2</th>\n",
       "      <td>151.257812</td>\n",
       "      <td>46</td>\n",
       "      <td>1214</td>\n",
       "      <td>17.791227</td>\n",
       "      <td>3.564460</td>\n",
       "      <td>13.417529</td>\n",
       "      <td>54.0</td>\n",
       "      <td>54.0</td>\n",
       "      <td>54.0</td>\n",
       "      <td>62.0</td>\n",
       "      <td>...</td>\n",
       "      <td>84.987377</td>\n",
       "      <td>8.759706</td>\n",
       "      <td>61</td>\n",
       "      <td>65</td>\n",
       "      <td>0</td>\n",
       "      <td>2</td>\n",
       "      <td>0</td>\n",
       "      <td>0</td>\n",
       "      <td>yi-camera</td>\n",
       "      <td>power</td>\n",
       "    </tr>\n",
       "    <tr>\n",
       "      <th>3</th>\n",
       "      <td>153.671875</td>\n",
       "      <td>46</td>\n",
       "      <td>1214</td>\n",
       "      <td>53.373680</td>\n",
       "      <td>3.875982</td>\n",
       "      <td>16.327205</td>\n",
       "      <td>54.0</td>\n",
       "      <td>54.0</td>\n",
       "      <td>62.0</td>\n",
       "      <td>66.0</td>\n",
       "      <td>...</td>\n",
       "      <td>32.392074</td>\n",
       "      <td>5.698209</td>\n",
       "      <td>44</td>\n",
       "      <td>78</td>\n",
       "      <td>0</td>\n",
       "      <td>6</td>\n",
       "      <td>0</td>\n",
       "      <td>0</td>\n",
       "      <td>yi-camera</td>\n",
       "      <td>power</td>\n",
       "    </tr>\n",
       "    <tr>\n",
       "      <th>4</th>\n",
       "      <td>186.500000</td>\n",
       "      <td>46</td>\n",
       "      <td>1214</td>\n",
       "      <td>26.686840</td>\n",
       "      <td>2.731627</td>\n",
       "      <td>6.242130</td>\n",
       "      <td>52.8</td>\n",
       "      <td>54.0</td>\n",
       "      <td>54.0</td>\n",
       "      <td>65.2</td>\n",
       "      <td>...</td>\n",
       "      <td>32.936597</td>\n",
       "      <td>5.764909</td>\n",
       "      <td>69</td>\n",
       "      <td>56</td>\n",
       "      <td>0</td>\n",
       "      <td>3</td>\n",
       "      <td>0</td>\n",
       "      <td>0</td>\n",
       "      <td>yi-camera</td>\n",
       "      <td>power</td>\n",
       "    </tr>\n",
       "  </tbody>\n",
       "</table>\n",
       "<p>5 rows × 29 columns</p>\n",
       "</div>"
      ],
      "text/plain": [
       "    meanBytes  minBytes  maxBytes  medAbsDev  skewLength  kurtosisLength  \\\n",
       "0  157.304688        46      1214  17.791227    3.347432       11.540648   \n",
       "1  191.148438        46      1214  23.721635    2.685539        6.275311   \n",
       "2  151.257812        46      1214  17.791227    3.564460       13.417529   \n",
       "3  153.671875        46      1214  53.373680    3.875982       16.327205   \n",
       "4  186.500000        46      1214  26.686840    2.731627        6.242130   \n",
       "\n",
       "    q10   q20   q30   q40  ...  kurtosisTBP   skewTBP  network_to  \\\n",
       "0  54.0  54.0  62.0  65.2  ...    41.989793  6.161966          49   \n",
       "1  50.0  54.0  54.0  62.0  ...    35.508022  6.042936          64   \n",
       "2  54.0  54.0  54.0  62.0  ...    84.987377  8.759706          61   \n",
       "3  54.0  54.0  62.0  66.0  ...    32.392074  5.698209          44   \n",
       "4  52.8  54.0  54.0  65.2  ...    32.936597  5.764909          69   \n",
       "\n",
       "   network_from  network_both  network_to_external  network_local  \\\n",
       "0            72             0                    7              0   \n",
       "1            57             0                    7              0   \n",
       "2            65             0                    2              0   \n",
       "3            78             0                    6              0   \n",
       "4            56             0                    3              0   \n",
       "\n",
       "   anonymous_source_destination     device  state  \n",
       "0                             0  yi-camera  power  \n",
       "1                             0  yi-camera  power  \n",
       "2                             0  yi-camera  power  \n",
       "3                             0  yi-camera  power  \n",
       "4                             0  yi-camera  power  \n",
       "\n",
       "[5 rows x 29 columns]"
      ]
     },
     "execution_count": 3,
     "metadata": {},
     "output_type": "execute_result"
    }
   ],
   "source": [
    "feature_set = pd.read_csv(r\"/Users/abhijit/Desktop/GIT_Projects/Original_iot/intl-iot/model/features-testing1.1/us/yi-camera.csv\")\n",
    "feature_set.head()"
   ]
  },
  {
   "cell_type": "code",
   "execution_count": 4,
   "metadata": {},
   "outputs": [
    {
     "data": {
      "text/plain": [
       "android_lan_recording    440\n",
       "android_lan_photo        430\n",
       "android_wan_watch        400\n",
       "android_wan_recording    400\n",
       "android_wan_photo        400\n",
       "android_lan_watch        370\n",
       "power                     30\n",
       "local_move                20\n",
       "Name: state, dtype: int64"
      ]
     },
     "execution_count": 4,
     "metadata": {},
     "output_type": "execute_result"
    }
   ],
   "source": [
    "feature_set.state.value_counts()"
   ]
  },
  {
   "cell_type": "code",
   "execution_count": 5,
   "metadata": {},
   "outputs": [
    {
     "data": {
      "text/html": [
       "<div>\n",
       "<style scoped>\n",
       "    .dataframe tbody tr th:only-of-type {\n",
       "        vertical-align: middle;\n",
       "    }\n",
       "\n",
       "    .dataframe tbody tr th {\n",
       "        vertical-align: top;\n",
       "    }\n",
       "\n",
       "    .dataframe thead th {\n",
       "        text-align: right;\n",
       "    }\n",
       "</style>\n",
       "<table border=\"1\" class=\"dataframe\">\n",
       "  <thead>\n",
       "    <tr style=\"text-align: right;\">\n",
       "      <th></th>\n",
       "      <th>meanBytes</th>\n",
       "      <th>minBytes</th>\n",
       "      <th>maxBytes</th>\n",
       "      <th>medAbsDev</th>\n",
       "      <th>skewLength</th>\n",
       "      <th>kurtosisLength</th>\n",
       "      <th>q10</th>\n",
       "      <th>q20</th>\n",
       "      <th>q30</th>\n",
       "      <th>q40</th>\n",
       "      <th>...</th>\n",
       "      <th>varTBP</th>\n",
       "      <th>medianTBP</th>\n",
       "      <th>kurtosisTBP</th>\n",
       "      <th>skewTBP</th>\n",
       "      <th>network_to</th>\n",
       "      <th>network_from</th>\n",
       "      <th>network_both</th>\n",
       "      <th>network_to_external</th>\n",
       "      <th>network_local</th>\n",
       "      <th>anonymous_source_destination</th>\n",
       "    </tr>\n",
       "  </thead>\n",
       "  <tbody>\n",
       "    <tr>\n",
       "      <th>0</th>\n",
       "      <td>157.304688</td>\n",
       "      <td>46</td>\n",
       "      <td>1214</td>\n",
       "      <td>17.791227</td>\n",
       "      <td>3.347432</td>\n",
       "      <td>11.540648</td>\n",
       "      <td>54.0</td>\n",
       "      <td>54.0</td>\n",
       "      <td>62.0</td>\n",
       "      <td>65.2</td>\n",
       "      <td>...</td>\n",
       "      <td>0.028772</td>\n",
       "      <td>0.011935</td>\n",
       "      <td>41.989793</td>\n",
       "      <td>6.161966</td>\n",
       "      <td>49</td>\n",
       "      <td>72</td>\n",
       "      <td>0</td>\n",
       "      <td>7</td>\n",
       "      <td>0</td>\n",
       "      <td>0</td>\n",
       "    </tr>\n",
       "    <tr>\n",
       "      <th>1</th>\n",
       "      <td>191.148438</td>\n",
       "      <td>46</td>\n",
       "      <td>1214</td>\n",
       "      <td>23.721635</td>\n",
       "      <td>2.685539</td>\n",
       "      <td>6.275311</td>\n",
       "      <td>50.0</td>\n",
       "      <td>54.0</td>\n",
       "      <td>54.0</td>\n",
       "      <td>62.0</td>\n",
       "      <td>...</td>\n",
       "      <td>1.050957</td>\n",
       "      <td>0.013464</td>\n",
       "      <td>35.508022</td>\n",
       "      <td>6.042936</td>\n",
       "      <td>64</td>\n",
       "      <td>57</td>\n",
       "      <td>0</td>\n",
       "      <td>7</td>\n",
       "      <td>0</td>\n",
       "      <td>0</td>\n",
       "    </tr>\n",
       "    <tr>\n",
       "      <th>2</th>\n",
       "      <td>151.257812</td>\n",
       "      <td>46</td>\n",
       "      <td>1214</td>\n",
       "      <td>17.791227</td>\n",
       "      <td>3.564460</td>\n",
       "      <td>13.417529</td>\n",
       "      <td>54.0</td>\n",
       "      <td>54.0</td>\n",
       "      <td>54.0</td>\n",
       "      <td>62.0</td>\n",
       "      <td>...</td>\n",
       "      <td>0.366044</td>\n",
       "      <td>0.033653</td>\n",
       "      <td>84.987377</td>\n",
       "      <td>8.759706</td>\n",
       "      <td>61</td>\n",
       "      <td>65</td>\n",
       "      <td>0</td>\n",
       "      <td>2</td>\n",
       "      <td>0</td>\n",
       "      <td>0</td>\n",
       "    </tr>\n",
       "    <tr>\n",
       "      <th>3</th>\n",
       "      <td>153.671875</td>\n",
       "      <td>46</td>\n",
       "      <td>1214</td>\n",
       "      <td>53.373680</td>\n",
       "      <td>3.875982</td>\n",
       "      <td>16.327205</td>\n",
       "      <td>54.0</td>\n",
       "      <td>54.0</td>\n",
       "      <td>62.0</td>\n",
       "      <td>66.0</td>\n",
       "      <td>...</td>\n",
       "      <td>1.027490</td>\n",
       "      <td>0.012781</td>\n",
       "      <td>32.392074</td>\n",
       "      <td>5.698209</td>\n",
       "      <td>44</td>\n",
       "      <td>78</td>\n",
       "      <td>0</td>\n",
       "      <td>6</td>\n",
       "      <td>0</td>\n",
       "      <td>0</td>\n",
       "    </tr>\n",
       "    <tr>\n",
       "      <th>4</th>\n",
       "      <td>186.500000</td>\n",
       "      <td>46</td>\n",
       "      <td>1214</td>\n",
       "      <td>26.686840</td>\n",
       "      <td>2.731627</td>\n",
       "      <td>6.242130</td>\n",
       "      <td>52.8</td>\n",
       "      <td>54.0</td>\n",
       "      <td>54.0</td>\n",
       "      <td>65.2</td>\n",
       "      <td>...</td>\n",
       "      <td>1.082099</td>\n",
       "      <td>0.011935</td>\n",
       "      <td>32.936597</td>\n",
       "      <td>5.764909</td>\n",
       "      <td>69</td>\n",
       "      <td>56</td>\n",
       "      <td>0</td>\n",
       "      <td>3</td>\n",
       "      <td>0</td>\n",
       "      <td>0</td>\n",
       "    </tr>\n",
       "  </tbody>\n",
       "</table>\n",
       "<p>5 rows × 27 columns</p>\n",
       "</div>"
      ],
      "text/plain": [
       "    meanBytes  minBytes  maxBytes  medAbsDev  skewLength  kurtosisLength  \\\n",
       "0  157.304688        46      1214  17.791227    3.347432       11.540648   \n",
       "1  191.148438        46      1214  23.721635    2.685539        6.275311   \n",
       "2  151.257812        46      1214  17.791227    3.564460       13.417529   \n",
       "3  153.671875        46      1214  53.373680    3.875982       16.327205   \n",
       "4  186.500000        46      1214  26.686840    2.731627        6.242130   \n",
       "\n",
       "    q10   q20   q30   q40  ...    varTBP  medianTBP  kurtosisTBP   skewTBP  \\\n",
       "0  54.0  54.0  62.0  65.2  ...  0.028772   0.011935    41.989793  6.161966   \n",
       "1  50.0  54.0  54.0  62.0  ...  1.050957   0.013464    35.508022  6.042936   \n",
       "2  54.0  54.0  54.0  62.0  ...  0.366044   0.033653    84.987377  8.759706   \n",
       "3  54.0  54.0  62.0  66.0  ...  1.027490   0.012781    32.392074  5.698209   \n",
       "4  52.8  54.0  54.0  65.2  ...  1.082099   0.011935    32.936597  5.764909   \n",
       "\n",
       "   network_to  network_from  network_both  network_to_external  network_local  \\\n",
       "0          49            72             0                    7              0   \n",
       "1          64            57             0                    7              0   \n",
       "2          61            65             0                    2              0   \n",
       "3          44            78             0                    6              0   \n",
       "4          69            56             0                    3              0   \n",
       "\n",
       "   anonymous_source_destination  \n",
       "0                             0  \n",
       "1                             0  \n",
       "2                             0  \n",
       "3                             0  \n",
       "4                             0  \n",
       "\n",
       "[5 rows x 27 columns]"
      ]
     },
     "execution_count": 5,
     "metadata": {},
     "output_type": "execute_result"
    }
   ],
   "source": [
    "feature_values = feature_set.drop(['device','state'],axis=1)\n",
    "feature_values.head()"
   ]
  },
  {
   "cell_type": "code",
   "execution_count": 6,
   "metadata": {},
   "outputs": [
    {
     "data": {
      "image/png": "[encoded data removed]",
      "text/plain": [
       "<Figure size 432x288 with 2 Axes>"
      ]
     },
     "metadata": {
      "needs_background": "light"
     },
     "output_type": "display_data"
    }
   ],
   "source": [
    "corr = feature_values.corr()\n",
    "ax = sns.heatmap(\n",
    "    corr, \n",
    "    vmin=-1, vmax=1, center=0,\n",
    "    cmap=sns.diverging_palette(20, 220, n=200),\n",
    "    square=True\n",
    ")\n",
    "ax.set_xticklabels(\n",
    "    ax.get_xticklabels(),\n",
    "    rotation=45,\n",
    "    horizontalalignment='right'\n",
    ");"
   ]
  },
  {
   "cell_type": "code",
   "execution_count": 7,
   "metadata": {},
   "outputs": [
    {
     "data": {
      "image/png": "[encoded data removed]",
      "text/plain": [
       "<Figure size 432x288 with 1 Axes>"
      ]
     },
     "metadata": {
      "needs_background": "light"
     },
     "output_type": "display_data"
    }
   ],
   "source": [
    "X_std = StandardScaler().fit_transform(feature_values)\n",
    "# Create a PCA instance: pca\n",
    "pca = PCA(n_components=20)\n",
    "principalComponents = pca.fit_transform(X_std)\n",
    "# Plot the explained variances\n",
    "features = range(pca.n_components_)\n",
    "plt.bar(features, pca.explained_variance_ratio_, color='black')\n",
    "plt.xlabel('PCA features')\n",
    "plt.ylabel('variance %')\n",
    "plt.xticks(features)\n",
    "# Save components to a DataFrame\n",
    "PCA_components = pd.DataFrame(principalComponents)"
   ]
  },
  {
   "cell_type": "code",
   "execution_count": 8,
   "metadata": {},
   "outputs": [
    {
     "data": {
      "text/plain": [
       "array([0.44571356, 0.19429614, 0.10694219, 0.06251995, 0.05077665,\n",
       "       0.04256605, 0.02963986, 0.01509575, 0.01139753, 0.00985081,\n",
       "       0.00782823, 0.00618224, 0.00571007, 0.00359072, 0.00198444,\n",
       "       0.00135372, 0.0012004 , 0.00093308, 0.00065106, 0.00062309])"
      ]
     },
     "execution_count": 8,
     "metadata": {},
     "output_type": "execute_result"
    }
   ],
   "source": [
    "pca.explained_variance_ratio_"
   ]
  },
  {
   "cell_type": "code",
   "execution_count": 10,
   "metadata": {},
   "outputs": [
    {
     "name": "stdout",
     "output_type": "stream",
     "text": [
      "[array([ 0, 13, 12, 11, 14]), array([ 6,  7, 16,  1, 17]), array([15, 24,  2,  7,  1]), array([20, 19, 21,  9,  8])]\n"
     ]
    }
   ],
   "source": [
    "top_4_variable_explanation = abs(pca.components_[:4])\n",
    "arr = []\n",
    "for n in top_4_variable_explanation:\n",
    "    top = n.argsort()[-5:][::-1]\n",
    "    arr.append(top)\n",
    "print(arr)"
   ]
  },
  {
   "cell_type": "code",
   "execution_count": 11,
   "metadata": {},
   "outputs": [
    {
     "name": "stdout",
     "output_type": "stream",
     "text": [
      "0 meanBytes\n",
      "1 minBytes\n",
      "2 maxBytes\n",
      "3 medAbsDev\n",
      "4 skewLength\n",
      "5 kurtosisLength\n",
      "6 q10\n",
      "7 q20\n",
      "8 q30\n",
      "9 q40\n",
      "10 q50\n",
      "11 q60\n",
      "12 q70\n",
      "13 q80\n",
      "14 q90\n",
      "15 spanOfGroup\n",
      "16 meanTBP\n",
      "17 varTBP\n",
      "18 medianTBP\n",
      "19 kurtosisTBP\n",
      "20 skewTBP\n",
      "21 network_to\n",
      "22 network_from\n",
      "23 network_both\n",
      "24 network_to_external\n",
      "25 network_local\n",
      "26 anonymous_source_destination\n"
     ]
    }
   ],
   "source": [
    "for n,i in enumerate(feature_values):\n",
    "    print(n,i)"
   ]
  },
  {
   "cell_type": "code",
   "execution_count": 12,
   "metadata": {},
   "outputs": [
    {
     "data": {
      "text/plain": [
       "Text(0, 0.5, 'PCA 2')"
      ]
     },
     "execution_count": 12,
     "metadata": {},
     "output_type": "execute_result"
    },
    {
     "data": {
      "image/png": "[encoded data removed]",
      "text/plain": [
       "<Figure size 432x288 with 1 Axes>"
      ]
     },
     "metadata": {
      "needs_background": "light"
     },
     "output_type": "display_data"
    }
   ],
   "source": [
    "plt.scatter(PCA_components[0], PCA_components[1], alpha=.1, color='black')\n",
    "plt.xlabel('PCA 1')\n",
    "plt.ylabel('PCA 2')"
   ]
  },
  {
   "cell_type": "markdown",
   "metadata": {},
   "source": [
    "## Pre PCA"
   ]
  },
  {
   "cell_type": "code",
   "execution_count": 17,
   "metadata": {},
   "outputs": [
    {
     "data": {
      "image/png": "[encoded data removed]",
      "text/plain": [
       "<Figure size 432x288 with 1 Axes>"
      ]
     },
     "metadata": {
      "needs_background": "light"
     },
     "output_type": "display_data"
    }
   ],
   "source": [
    "ks = range(1, 10)\n",
    "inertias = []\n",
    "for k in ks:\n",
    "    # Create a KMeans instance with k clusters: model\n",
    "    model = KMeans(n_clusters=k)\n",
    "    \n",
    "    # Fit model to samples\n",
    "    model.fit(feature_values.iloc[:,:20])\n",
    "    \n",
    "    # Append the inertia to the list of inertias\n",
    "    inertias.append(model.inertia_)\n",
    "    \n",
    "plt.plot(ks, inertias, '-o', color='black')\n",
    "plt.xlabel('number of clusters, k')\n",
    "plt.ylabel('inertia')\n",
    "plt.xticks(ks)\n",
    "plt.show()"
   ]
  },
  {
   "cell_type": "markdown",
   "metadata": {},
   "source": [
    "## Post PCA"
   ]
  },
  {
   "cell_type": "code",
   "execution_count": 20,
   "metadata": {},
   "outputs": [
    {
     "data": {
      "image/png": "[encoded data removed]",
      "text/plain": [
       "<Figure size 432x288 with 1 Axes>"
      ]
     },
     "metadata": {
      "needs_background": "light"
     },
     "output_type": "display_data"
    }
   ],
   "source": [
    "ks = range(1, 10)\n",
    "inertias = []\n",
    "for k in ks:\n",
    "    # Create a KMeans instance with k clusters: model\n",
    "    model = KMeans(n_clusters=k)\n",
    "    \n",
    "    # Fit model to samples\n",
    "    model.fit(PCA_components.iloc[:,:5])\n",
    "    \n",
    "    # Append the inertia to the list of inertias\n",
    "    inertias.append(model.inertia_)\n",
    "    \n",
    "plt.plot(ks, inertias, '-o', color='black')\n",
    "plt.xlabel('number of clusters, k')\n",
    "plt.ylabel('inertia')\n",
    "plt.xticks(ks)\n",
    "plt.show()"
   ]
  },
  {
   "cell_type": "code",
   "execution_count": null,
   "metadata": {},
   "outputs": [],
   "source": []
  }
 ],
 "metadata": {
  "kernelspec": {
   "display_name": "Python 3",
   "language": "python",
   "name": "python3"
  },
  "language_info": {
   "codemirror_mode": {
    "name": "ipython",
    "version": 3
   },
   "file_extension": ".py",
   "mimetype": "text/x-python",
   "name": "python",
   "nbconvert_exporter": "python",
   "pygments_lexer": "ipython3",
   "version": "3.7.6"
  }
 },
 "nbformat": 4,
 "nbformat_minor": 1
}
