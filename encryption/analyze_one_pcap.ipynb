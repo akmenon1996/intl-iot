{
 "cells": [
  {
   "cell_type": "markdown",
   "metadata": {},
   "source": [
    "## Encryption Analysis Base Code\n",
    "\n",
    "INPUT: a pcap file\n",
    "OUTPUT: a csv file \n",
    "\n",
    "### Examples\n",
    "**Step 1. Read PCAP data and convert into JSON format**"
   ]
  },
  {
   "cell_type": "code",
   "execution_count": 1,
   "metadata": {},
   "outputs": [],
   "source": [
    "import os \n",
    "\"\"\"\n",
    "Input is a pcap file\n",
    "\"\"\"\n",
    "in_file=\"samples/traffic.pcap\"\n",
    "\"\"\"\n",
    "csv header: ip_src,ip_dst,srcport,dstport,tp_proto,data_proto,data_type,data_len,entropy,reason\n",
    "\"\"\"\n",
    "out_file=\"output/traffic.csv\"\n",
    "\"\"\"\n",
    "ek_file: Newline delimited JSON format for bulk import into Elasticsearch \n",
    "according to the option -T ek of https://www.wireshark.org/docs/man-pages/tshark.html\n",
    "\"\"\" \n",
    "ek_file=\"output/traffic.json\""
   ]
  },
  {
   "cell_type": "code",
   "execution_count": 2,
   "metadata": {},
   "outputs": [
    {
     "name": "stdout",
     "output_type": "stream",
     "text": [
      "Running tshark -r samples/traffic.pcap -T ek -x > output/traffic.json\n",
      " ... wait for the return code to be 0. \n"
     ]
    },
    {
     "data": {
      "text/plain": [
       "0"
      ]
     },
     "execution_count": 2,
     "metadata": {},
     "output_type": "execute_result"
    }
   ],
   "source": [
    "# this is calling from the python script, one could run this via command directly \n",
    "cmd_bash = 'tshark -r %s -T ek -x > %s' % (in_file, ek_file)\n",
    "print('Running %s\\n ... wait for the return code to be 0. ' % cmd_bash)\n",
    "os.system(cmd_bash) "
   ]
  },
  {
   "cell_type": "markdown",
   "metadata": {},
   "source": [
    "*Note: Due to the large size of the generated .json file (100+MB), we do not put it in the repo, you can either generate by running this notebook, or download from our main site for the dataset.* \n",
    "\n",
    "**Step 2. Compute the entropy and determine data type**  \n",
    "Data type values: `unknown`, `text`, `encrypted`, `media`."
   ]
  },
  {
   "cell_type": "code",
   "execution_count": 3,
   "metadata": {},
   "outputs": [
    {
     "name": "stdout",
     "output_type": "stream",
     "text": [
      "Running python shrink_compute.py output/traffic.json output/traffic.csv \n",
      " ... wait for the return code to be 0. \n"
     ]
    },
    {
     "data": {
      "text/plain": [
       "32512"
      ]
     },
     "execution_count": 3,
     "metadata": {},
     "output_type": "execute_result"
    }
   ],
   "source": [
    "# call the script to compute entropy\n",
    "# python shrink_compute.py ${ek_file} \".\" ${out_file}\n",
    "cmd_python='python shrink_compute.py %s %s' % (ek_file, out_file)\n",
    "print( 'Running %s \\n ... wait for the return code to be 0. '% cmd_python)\n",
    "os.system(cmd_python)"
   ]
  },
  {
   "cell_type": "code",
   "execution_count": 4,
   "metadata": {},
   "outputs": [
    {
     "name": "stdout",
     "output_type": "stream",
     "text": [
      "The result file should be at output/traffic.csv\n"
     ]
    }
   ],
   "source": [
    "print(\"The result file should be at %s\" % out_file)"
   ]
  },
  {
   "cell_type": "code",
   "execution_count": null,
   "metadata": {},
   "outputs": [],
   "source": []
  }
 ],
 "metadata": {
  "kernelspec": {
   "display_name": "Python 3",
   "language": "python",
   "name": "python3"
  },
  "language_info": {
   "codemirror_mode": {
    "name": "ipython",
    "version": 3
   },
   "file_extension": ".py",
   "mimetype": "text/x-python",
   "name": "python",
   "nbconvert_exporter": "python",
   "pygments_lexer": "ipython3",
   "version": "3.6.9"
  }
 },
 "nbformat": 4,
 "nbformat_minor": 2
}
